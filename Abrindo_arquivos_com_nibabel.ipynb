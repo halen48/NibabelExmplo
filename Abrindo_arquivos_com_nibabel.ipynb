{
  "nbformat": 4,
  "nbformat_minor": 0,
  "metadata": {
    "colab": {
      "name": "Abrindo arquivos com nibabel.ipynb",
      "provenance": [],
      "collapsed_sections": [],
      "authorship_tag": "ABX9TyMJ2lAxCArgWxXnFLqI1MAz",
      "include_colab_link": true
    },
    "kernelspec": {
      "name": "python3",
      "display_name": "Python 3"
    },
    "language_info": {
      "name": "python"
    },
    "accelerator": "GPU"
  },
  "cells": [
    {
      "cell_type": "markdown",
      "metadata": {
        "id": "view-in-github",
        "colab_type": "text"
      },
      "source": [
        "<a href=\"https://colab.research.google.com/github/halen48/NibabelExmplo/blob/main/Abrindo_arquivos_com_nibabel.ipynb\" target=\"_parent\"><img src=\"https://colab.research.google.com/assets/colab-badge.svg\" alt=\"Open In Colab\"/></a>"
      ]
    },
    {
      "cell_type": "code",
      "metadata": {
        "id": "NihA_lZRNANp"
      },
      "source": [
        "#@title Dependências\n",
        "import time\n",
        "\n",
        "from IPython.display import Image\n",
        "import datetime\n",
        "import tarfile\n",
        "import matplotlib.pyplot as plt\n"
      ],
      "execution_count": null,
      "outputs": []
    },
    {
      "cell_type": "markdown",
      "metadata": {
        "id": "38h6j3E6sq3-"
      },
      "source": [
        "#Params"
      ]
    },
    {
      "cell_type": "code",
      "metadata": {
        "id": "Ug0z8pQmnIb2"
      },
      "source": [
        "work_path = '/drive/MyDrive/dataset/' #@param{type:\"string\"}\n",
        "dataset_path = 'MRI/' #@param{type:\"string\"}\n",
        "dataset_labels = \"datalabels.csv\" #@param{type:\"string\"}\n"
      ],
      "execution_count": null,
      "outputs": []
    },
    {
      "cell_type": "code",
      "metadata": {
        "id": "t1-XHlldTQYu",
        "colab": {
          "base_uri": "https://localhost:8080/"
        },
        "outputId": "baad63c8-4f6b-48de-ecb2-006c8334be6d"
      },
      "source": [
        "#@title Preparar o ambiente\n",
        "import os\n",
        "from google.colab import drive\n",
        "\n",
        "drive.mount('/content/drive')\n",
        "\n",
        "dir = os.getcwd()+work_path\n",
        "\n",
        "work_path = '.' + work_path\n",
        "\n",
        "print(os.listdir(dir))"
      ],
      "execution_count": null,
      "outputs": [
        {
          "output_type": "stream",
          "name": "stdout",
          "text": [
            "Drive already mounted at /content/drive; to attempt to forcibly remount, call drive.mount(\"/content/drive\", force_remount=True).\n",
            "['runs', 'MNIST', 'GAN_1', 'Discriminators', 'Generators', 'epoche_log.csv', 'GAN_trained.pt', 'Mamografia', '29-07-2021', 'logloss.csv', '09-08-2021', 'Duke MRI Breast Cancer', '064_statistics.csv', '128_statistics.csv', 'Cópia MRI', 'MRI']\n"
          ]
        }
      ]
    },
    {
      "cell_type": "markdown",
      "metadata": {
        "id": "bGPJ4cRZUTrs"
      },
      "source": [
        "#Dataset"
      ]
    },
    {
      "cell_type": "markdown",
      "metadata": {
        "id": "LD4iEbMHwkFX"
      },
      "source": [
        ">> https://decathlon-10.grand-challenge.org/<br>\n",
        ">>Extract the files to the work_path\n",
        "```\n",
        "files = [f for f in os.listdir(work_path+dataset_path) if(f[-4:] == '.tar')]\n",
        "for f in files:\n",
        "  print(\"Extracting %s\"%f)\n",
        "  with tarfile.open(work_path+dataset_path+f) as tar:\n",
        "    for sf in tar:\n",
        "      ''' skip if already extracted '''\n",
        "      if(sf.isfile() and not os.path.exists(work_path+dataset_path+sf.name) and sf.name.split('/')[-1][:2] != '._'):\n",
        "        print(\"Extracting:\",sf.name)\n",
        "        tar.extract(sf, path = work_path+dataset_path)\n",
        "      else:\n",
        "        print(\"Skipping\",sf.name)\n",
        "```"
      ]
    },
    {
      "cell_type": "markdown",
      "metadata": {
        "id": "3MYi3J5Nos6v"
      },
      "source": [
        ">>Dependencies"
      ]
    },
    {
      "cell_type": "code",
      "metadata": {
        "id": "SQWJqnpnor3l"
      },
      "source": [
        "import nibabel\n",
        "import math\n",
        "import random\n",
        "from PIL import Image as imgPIL\n",
        "import numpy as np\n",
        "import pandas as pd"
      ],
      "execution_count": null,
      "outputs": []
    },
    {
      "cell_type": "markdown",
      "metadata": {
        "id": "gHRmbxjUbYfy"
      },
      "source": [
        ">>Dataset criado seguindo <a href=\"https://pytorch.org/tutorials/beginner/data_loading_tutorial.html\">essas</a> instruções"
      ]
    },
    {
      "cell_type": "code",
      "metadata": {
        "id": "gEG_sYMFa0Zz"
      },
      "source": [
        "class MRIDataset():\n",
        "\n",
        "  def __init__(self, root_dir, csv_file):\n",
        "\n",
        "    self.landmarks_frame = pd.read_csv(csv_file)\n",
        "    self.root_dir = root_dir\n",
        "\n",
        "  def __len__(self):\n",
        "    return len(self.landmarks_frame)\n",
        "\n",
        "  def __getitem__(self, idx):\n",
        "    \n",
        "    img_name = os.path.join(self.root_dir,\n",
        "                            self.landmarks_frame.iloc[idx, 0])\n",
        "    image = nibabel.load(img_name).get_fdata()\n",
        "    \n",
        "    landmarks = self.landmarks_frame.iloc[idx, 1]\n",
        "    landmarks = np.array(landmarks)\n",
        "    #landmarks = landmarks.astype('float').reshape(-1, 2)\n",
        "    sample = [np.array(image), img_name, None, landmarks]\n",
        "    sample[2] = sample[0].shape\n",
        "    \n",
        "    return sample"
      ],
      "execution_count": null,
      "outputs": []
    },
    {
      "cell_type": "markdown",
      "metadata": {
        "id": "NfsFDpdT_Pz3"
      },
      "source": [
        ">>Check if the csv file with labels exisits"
      ]
    },
    {
      "cell_type": "code",
      "metadata": {
        "id": "e2BmVQ57_PgR"
      },
      "source": [
        "roots = [f for f in os.listdir(dir+dataset_path) if os.path.isdir(dir+dataset_path+f)]\n",
        "#random classes\n",
        "number_classes = len(roots)\n",
        "classes = [\"Class %d\"%i for i in range(0,number_classes)]\n",
        "#==========================================\n",
        "try:\n",
        "  open(dir+dataset_path+dataset_labels)\n",
        "except:\n",
        "  print(\"Generating [%s]\"%dataset_labels)\n",
        "  import pandas as pd\n",
        "  dataset_folders = [(i,root+'/imagesTr/') for i,root in enumerate(roots)]\n",
        "  trainin_folders = [(i,root+'/imagesTs/') for i,root in enumerate(roots)]\n",
        "  extension_img = \".nii.gz\"\n",
        "\n",
        "  files = []\n",
        "  labels = []\n",
        "  dims = []\n",
        "\n",
        "  for i,dataset_folder in (dataset_folders+trainin_folders):\n",
        "    dim_min = [999,999,999]\n",
        "    dim_max = [0,0,0]\n",
        "    for f in os.listdir(dir+dataset_path+dataset_folder):\n",
        "      if(f[:2] != '._' and f[-len(extension_img):] == extension_img):\n",
        "        try:\n",
        "          dims.append(nibabel.load(work_path+dataset_path+dataset_folder+f).get_fdata().shape)\n",
        "          files.append(dataset_folder+f)\n",
        "          labels.append(i)\n",
        "          for l in range(0,3):\n",
        "            dim_max[l] = max(dims[-1][l], dim_max[l])\n",
        "            dim_min[l] = min(dims[-1][l], dim_min[l])\n",
        "          print(files[-1], labels[-1], dims[-1])\n",
        "        except:\n",
        "          print(\"Skipping: %s\"%f)\n",
        "          pass\n",
        "    print(\">>> %s: %s ~ %s\"%(dataset_folder,dim_min,dim_max))\n",
        "\n",
        "  pd.DataFrame({'data':files,'label':labels,'dimensions':dims}).to_csv(dir+dataset_path+dataset_labels, index=False)  "
      ],
      "execution_count": null,
      "outputs": []
    },
    {
      "cell_type": "markdown",
      "metadata": {
        "id": "IZ7Q0CJ_wtkP"
      },
      "source": [
        "><a href=\"https://www.youtube.com/watch?v=Tc9ONZLBHP0\">Visualizando o dataset</a>"
      ]
    },
    {
      "cell_type": "code",
      "metadata": {
        "id": "SfNcOyJgSJ4M"
      },
      "source": [
        "try:\n",
        "  os.mkdir('samples')\n",
        "except FileExistsError:\n",
        "  pass\n",
        "\n",
        "dataset = MRIDataset(dir+dataset_path, dir+dataset_path+dataset_labels)\n",
        "\n",
        "#intensity of image (0~255)\n",
        "intensity = 255\n",
        "\n",
        "for i in range(len(dataset)):\n",
        "  img_data = dataset[i][0]\n",
        "  print(img_data.shape,dataset[i][1:])\n",
        "  max_v = np.amax(img_data)\n",
        "  img_data = intensity*img_data/max_v\n",
        "\n",
        "  gif = imgPIL.fromarray(img_data[:,:,0])\n",
        "\n",
        "  frames = [imgPIL.fromarray(img_data[:,:,p]) for p in range(1,img_data.shape[2]) ]\n",
        "\n",
        "  gif.save('samples/%03d.gif'%i, save_all=True, append_images=frames, duration=1/len(frames), loop = 0)\n",
        "\n",
        "\n",
        "file_name = 'samples/%03d.gif'%(random.randint(0,batch_size-1))\n",
        "print(\"Mostrando %s\"%file_name)\n",
        "Image(open(file_name,'rb').read())\n"
      ],
      "execution_count": null,
      "outputs": []
    }
  ]
}